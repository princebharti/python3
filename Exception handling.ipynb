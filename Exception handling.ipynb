{
 "cells": [
  {
   "cell_type": "markdown",
   "metadata": {},
   "source": [
    "# Errors and Exception handling"
   ]
  },
  {
   "cell_type": "markdown",
   "metadata": {},
   "source": [
    "## Try Except Finally"
   ]
  },
  {
   "cell_type": "code",
   "execution_count": 1,
   "metadata": {},
   "outputs": [
    {
     "ename": "TypeError",
     "evalue": "unsupported operand type(s) for +: 'int' and 'str'",
     "output_type": "error",
     "traceback": [
      "\u001b[0;31m---------------------------------------------------------------------------\u001b[0m",
      "\u001b[0;31mTypeError\u001b[0m                                 Traceback (most recent call last)",
      "\u001b[0;32m<ipython-input-1-f0fec53828a7>\u001b[0m in \u001b[0;36m<module>\u001b[0;34m()\u001b[0m\n\u001b[0;32m----> 1\u001b[0;31m \u001b[0;36m2\u001b[0m\u001b[0;34m+\u001b[0m\u001b[0;34m's'\u001b[0m\u001b[0;34m\u001b[0m\u001b[0m\n\u001b[0m",
      "\u001b[0;31mTypeError\u001b[0m: unsupported operand type(s) for +: 'int' and 'str'"
     ]
    }
   ],
   "source": [
    "2+'s'"
   ]
  },
  {
   "cell_type": "code",
   "execution_count": 2,
   "metadata": {},
   "outputs": [
    {
     "name": "stdout",
     "output_type": "stream",
     "text": [
      "there was a type error\n"
     ]
    }
   ],
   "source": [
    "try:\n",
    "    2+'s'\n",
    "except:\n",
    "    print(\"there was a type error\")"
   ]
  },
  {
   "cell_type": "code",
   "execution_count": 3,
   "metadata": {},
   "outputs": [
    {
     "name": "stdout",
     "output_type": "stream",
     "text": [
      "there was a type error\n",
      "finally has been printed\n"
     ]
    }
   ],
   "source": [
    "try:\n",
    "    2+'s'\n",
    "except:\n",
    "    print(\"there was a type error\")\n",
    "finally: #it will always excecuted\n",
    "    print(\"finally has been printed\")"
   ]
  },
  {
   "cell_type": "code",
   "execution_count": 4,
   "metadata": {},
   "outputs": [
    {
     "name": "stdout",
     "output_type": "stream",
     "text": [
      "writng was success\n"
     ]
    }
   ],
   "source": [
    "try:\n",
    "    f=open('try.text','w')\n",
    "    f.write(\"hello\")\n",
    "except:\n",
    "    print(\"error in writing to the file\")\n",
    "else:   \n",
    "    print(\"writng was success\")"
   ]
  },
  {
   "cell_type": "code",
   "execution_count": 5,
   "metadata": {},
   "outputs": [
    {
     "name": "stdout",
     "output_type": "stream",
     "text": [
      "error in writing to the file\n"
     ]
    }
   ],
   "source": [
    "try:\n",
    "    f=open('try.text','r')\n",
    "    f.write(\"hello\")\n",
    "except:\n",
    "    print(\"error in writing to the file\")\n",
    "else:    #else will be executed when there would be no exception\n",
    "    print(\"writng was success\")"
   ]
  },
  {
   "cell_type": "code",
   "execution_count": 8,
   "metadata": {},
   "outputs": [
    {
     "name": "stdout",
     "output_type": "stream",
     "text": [
      "there was an error\n",
      "Finally would be always executed!! \n"
     ]
    }
   ],
   "source": [
    "try:\n",
    "    f=open('try.text','r')\n",
    "    f.write(\"hello\")\n",
    "except:\n",
    "    print(\"there was an error\")\n",
    "finally:\n",
    "    print(\"Finally would be always executed!! \")"
   ]
  },
  {
   "cell_type": "code",
   "execution_count": 9,
   "metadata": {},
   "outputs": [],
   "source": [
    "def askint():\n",
    "    try:\n",
    "        a=input(\"please enter integer\")\n",
    "    except:\n",
    "        print(\"there was some exception\")\n",
    "    else:\n",
    "        print(\"there was no error\")\n",
    "    finally:\n",
    "        print(\"final was excecuted\")\n",
    "        \n",
    "    \n",
    "        "
   ]
  },
  {
   "cell_type": "code",
   "execution_count": 10,
   "metadata": {},
   "outputs": [
    {
     "name": "stdout",
     "output_type": "stream",
     "text": [
      "please enter integer1\n",
      "there was no error\n",
      "final was excecuted\n"
     ]
    }
   ],
   "source": [
    "askint()"
   ]
  },
  {
   "cell_type": "code",
   "execution_count": null,
   "metadata": {},
   "outputs": [],
   "source": []
  }
 ],
 "metadata": {
  "kernelspec": {
   "display_name": "Python 3",
   "language": "python",
   "name": "python3"
  },
  "language_info": {
   "codemirror_mode": {
    "name": "ipython",
    "version": 3
   },
   "file_extension": ".py",
   "mimetype": "text/x-python",
   "name": "python",
   "nbconvert_exporter": "python",
   "pygments_lexer": "ipython3",
   "version": "3.5.2"
  }
 },
 "nbformat": 4,
 "nbformat_minor": 2
}
