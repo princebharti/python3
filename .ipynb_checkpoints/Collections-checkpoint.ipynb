{
 "cells": [
  {
   "cell_type": "markdown",
   "metadata": {},
   "source": [
    "# Collections Modules"
   ]
  },
  {
   "cell_type": "code",
   "execution_count": 5,
   "metadata": {},
   "outputs": [],
   "source": [
    "import collections"
   ]
  },
  {
   "cell_type": "code",
   "execution_count": 8,
   "metadata": {
    "collapsed": true
   },
   "outputs": [],
   "source": [
    "c=collections.Counter([1,1,1,1])"
   ]
  },
  {
   "cell_type": "code",
   "execution_count": 10,
   "metadata": {},
   "outputs": [
    {
     "data": {
      "text/plain": [
       "collections.Counter"
      ]
     },
     "execution_count": 10,
     "metadata": {},
     "output_type": "execute_result"
    }
   ],
   "source": [
    "type(c)"
   ]
  },
  {
   "cell_type": "code",
   "execution_count": 12,
   "metadata": {},
   "outputs": [
    {
     "data": {
      "text/plain": [
       "Counter({'a': 2,\n",
       "         'b': 1,\n",
       "         'c': 1,\n",
       "         'e': 2,\n",
       "         'h': 2,\n",
       "         'i': 2,\n",
       "         'n': 1,\n",
       "         'o': 2,\n",
       "         'p': 1,\n",
       "         'r': 3,\n",
       "         't': 1,\n",
       "         'u': 1,\n",
       "         'w': 1,\n",
       "         'y': 1})"
      ]
     },
     "execution_count": 12,
     "metadata": {},
     "output_type": "execute_result"
    }
   ],
   "source": [
    "s='princebhartihowareyou'\n",
    "c=collections.Counter(s)\n",
    "c"
   ]
  },
  {
   "cell_type": "code",
   "execution_count": 17,
   "metadata": {},
   "outputs": [
    {
     "data": {
      "text/plain": [
       "Counter({',': 1,\n",
       "         'about': 1,\n",
       "         'and': 2,\n",
       "         'are': 2,\n",
       "         'fine': 1,\n",
       "         'hey': 1,\n",
       "         'how': 2,\n",
       "         'is': 1,\n",
       "         'pb': 1,\n",
       "         'prince': 2,\n",
       "         'she': 1,\n",
       "         'what': 2,\n",
       "         'you': 4})"
      ]
     },
     "execution_count": 17,
     "metadata": {},
     "output_type": "execute_result"
    }
   ],
   "source": [
    "sentence=\"hey prince how are you , and what about pb is she fine and what prince how are you you you\"\n",
    "words=sentence.split()\n",
    "c=collections.Counter(words)\n",
    "c"
   ]
  },
  {
   "cell_type": "code",
   "execution_count": 19,
   "metadata": {},
   "outputs": [
    {
     "data": {
      "text/plain": [
       "dict_values([1, 2, 2, 2, 4, 1, 2, 2, 1, 1, 1, 1, 1])"
      ]
     },
     "execution_count": 19,
     "metadata": {},
     "output_type": "execute_result"
    }
   ],
   "source": [
    "c.values()"
   ]
  },
  {
   "cell_type": "code",
   "execution_count": 20,
   "metadata": {},
   "outputs": [
    {
     "data": {
      "text/plain": [
       "21"
      ]
     },
     "execution_count": 20,
     "metadata": {},
     "output_type": "execute_result"
    }
   ],
   "source": [
    "sum(c.values())"
   ]
  },
  {
   "cell_type": "code",
   "execution_count": 22,
   "metadata": {},
   "outputs": [
    {
     "name": "stdout",
     "output_type": "stream",
     "text": [
      "0 hey\n",
      "1 prince\n",
      "2 how\n",
      "3 are\n",
      "4 you\n",
      "5 ,\n",
      "6 and\n",
      "7 what\n",
      "8 about\n",
      "9 pb\n",
      "10 is\n",
      "11 she\n",
      "12 fine\n",
      "13 and\n",
      "14 what\n",
      "15 prince\n",
      "16 how\n",
      "17 are\n",
      "18 you\n",
      "19 you\n",
      "20 you\n"
     ]
    }
   ],
   "source": [
    "for c,v in enumerate(words):\n",
    "    print(c,v)"
   ]
  },
  {
   "cell_type": "code",
   "execution_count": null,
   "metadata": {
    "collapsed": true
   },
   "outputs": [],
   "source": []
  }
 ],
 "metadata": {
  "kernelspec": {
   "display_name": "Python 3",
   "language": "python",
   "name": "python3"
  },
  "language_info": {
   "codemirror_mode": {
    "name": "ipython",
    "version": 3
   },
   "file_extension": ".py",
   "mimetype": "text/x-python",
   "name": "python",
   "nbconvert_exporter": "python",
   "pygments_lexer": "ipython3",
   "version": "3.6.1"
  }
 },
 "nbformat": 4,
 "nbformat_minor": 2
}
